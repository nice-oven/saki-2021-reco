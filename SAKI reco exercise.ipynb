{
 "cells": [
  {
   "cell_type": "markdown",
   "id": "375fcebf-05e0-44e1-baf8-abeae6ce3eed",
   "metadata": {},
   "source": [
    "# Recommender system exercises\n",
    "\n",
    "You'll need to install the packages pandas and matplotlib for this exercise.\n",
    "\n",
    "We're working with the movielens data set, the smaller version. This data set contains 100k ratings for 9000 movies from 600 users.\n",
    "\n",
    "We'll have a look at the data, implement collaborative filtering, and look at some typical metrics."
   ]
  },
  {
   "cell_type": "markdown",
   "id": "29c7d75b-fe07-4cef-b289-48740a9789e7",
   "metadata": {},
   "source": [
    "## Getting the data\n",
    "\n",
    "Uncomment the lines in the next box and this will download the files and unzip them in this directory.\n"
   ]
  },
  {
   "cell_type": "code",
   "execution_count": 1,
   "id": "08325700-5f6c-4c3a-ab60-deed2cbc4504",
   "metadata": {},
   "outputs": [],
   "source": [
    "# Do this only once!\n",
    "#!wget http://files.grouplens.org/datasets/movielens/ml-latest-small.zip\n",
    "#!unzip ml-latest-small.zip"
   ]
  },
  {
   "cell_type": "markdown",
   "id": "22b06f16-6b79-4b2c-b0c7-2fb598b5a51e",
   "metadata": {},
   "source": [
    "These are the includes for the rest of the notebook"
   ]
  },
  {
   "cell_type": "code",
   "execution_count": 2,
   "id": "4766af4e-320c-4048-8aed-b2ddbebf8bec",
   "metadata": {},
   "outputs": [],
   "source": [
    "import matplotlib.pyplot as plt\n",
    "import pandas as pd\n",
    "import numpy as np\n",
    "import datetime\n",
    "import matplotlib as mpl"
   ]
  },
  {
   "cell_type": "markdown",
   "id": "a080f010-2876-4131-8740-27f25c306200",
   "metadata": {},
   "source": [
    "## Reading the movie data\n",
    "\n",
    "Let's start by reading the movie data and define a function findMovieByTitle that returns all movies which match a given string.\n",
    "\n",
    "We'll use the [pandas](https://pandas.pydata.org/pandas-docs/stable/index.html) library for loading. Key to performance is to not manually iterate over the data, but use built-in functions as much as possible."
   ]
  },
  {
   "cell_type": "code",
   "execution_count": 3,
   "id": "32daf323-2cbe-4c86-9b9e-2f26434bdbab",
   "metadata": {},
   "outputs": [],
   "source": [
    "movies = pd.read_csv('ml-latest-small/movies.csv', index_col='movieId') # why is it called index_col, not index"
   ]
  },
  {
   "cell_type": "markdown",
   "id": "73a364bf-4f94-42f6-ab32-c77eac5ccdff",
   "metadata": {},
   "source": [
    "Implement a function findMovieByTitle that returns all movies whose title matches the string passed.\n",
    "\n",
    "Then, let's return all movies containing the term 'Matrix'"
   ]
  },
  {
   "cell_type": "code",
   "execution_count": 4,
   "id": "bb31ddf7-0948-4860-b1ee-dcc2622c46db",
   "metadata": {},
   "outputs": [
    {
     "data": {
      "text/plain": "                                  title                                 genres\nmovieId                                                                       \n2571                 Matrix, The (1999)                 Action|Sci-Fi|Thriller\n6365        Matrix Reloaded, The (2003)  Action|Adventure|Sci-Fi|Thriller|IMAX\n6934     Matrix Revolutions, The (2003)  Action|Adventure|Sci-Fi|Thriller|IMAX",
      "text/html": "<div>\n<style scoped>\n    .dataframe tbody tr th:only-of-type {\n        vertical-align: middle;\n    }\n\n    .dataframe tbody tr th {\n        vertical-align: top;\n    }\n\n    .dataframe thead th {\n        text-align: right;\n    }\n</style>\n<table border=\"1\" class=\"dataframe\">\n  <thead>\n    <tr style=\"text-align: right;\">\n      <th></th>\n      <th>title</th>\n      <th>genres</th>\n    </tr>\n    <tr>\n      <th>movieId</th>\n      <th></th>\n      <th></th>\n    </tr>\n  </thead>\n  <tbody>\n    <tr>\n      <th>2571</th>\n      <td>Matrix, The (1999)</td>\n      <td>Action|Sci-Fi|Thriller</td>\n    </tr>\n    <tr>\n      <th>6365</th>\n      <td>Matrix Reloaded, The (2003)</td>\n      <td>Action|Adventure|Sci-Fi|Thriller|IMAX</td>\n    </tr>\n    <tr>\n      <th>6934</th>\n      <td>Matrix Revolutions, The (2003)</td>\n      <td>Action|Adventure|Sci-Fi|Thriller|IMAX</td>\n    </tr>\n  </tbody>\n</table>\n</div>"
     },
     "execution_count": 4,
     "metadata": {},
     "output_type": "execute_result"
    }
   ],
   "source": [
    "# a function to do some exploration\n",
    "def findMovieByTitle(title):\n",
    "    return movies[movies.title.str.find(title) != -1]\n",
    "\n",
    "findMovieByTitle('Matrix')"
   ]
  },
  {
   "cell_type": "markdown",
   "id": "97e7f030-7c49-4b29-804e-9927aef0e542",
   "metadata": {},
   "source": [
    "## Reading the ratings data\n",
    "\n",
    "Next, we'll load the ratings data set. Use datetime.datetime.fromtimestamp to convert the timestamp column to an actual datetime object (this will make it more readable)"
   ]
  },
  {
   "cell_type": "code",
   "execution_count": 5,
   "id": "0809bd19-abf8-4879-9153-b9fee7ea64ed",
   "metadata": {},
   "outputs": [],
   "source": [
    "ratings = pd.read_csv('ml-latest-small/ratings.csv')\n",
    "ratings.timestamp = ratings.timestamp.apply(datetime.datetime.fromtimestamp) # datetime.datetime WTF\n",
    "\n",
    "userIds = ratings.userId.unique()\n"
   ]
  },
  {
   "cell_type": "markdown",
   "id": "99304b05-d750-42f1-85b1-e48ec94b59b6",
   "metadata": {},
   "source": [
    "Now, define a function ratingsForUser that takes a user id and returns all the entries from the ratings table for that user."
   ]
  },
  {
   "cell_type": "code",
   "execution_count": 6,
   "id": "9fa23ccf-b29b-4b3b-8ffc-d802fb8f41bb",
   "metadata": {},
   "outputs": [
    {
     "data": {
      "text/plain": "      userId  movieId  rating           timestamp\n2977      20        2     3.0 2003-05-27 14:25:13\n2978      20        8     1.0 2003-05-27 14:27:02\n2979      20       13     4.0 2003-05-27 14:27:05\n2980      20       34     4.0 2003-05-27 14:21:33\n2981      20       48     5.0 2003-05-27 14:25:57\n...      ...      ...     ...                 ...\n3214      20     6297     4.0 2003-05-27 13:57:50\n3215      20     6333     4.0 2003-05-27 13:56:56\n3216      20     6345     5.0 2003-05-27 13:57:03\n3217      20     6358     3.5 2003-05-28 20:45:05\n3218      20     6365     4.0 2003-05-28 20:39:27\n\n[242 rows x 4 columns]",
      "text/html": "<div>\n<style scoped>\n    .dataframe tbody tr th:only-of-type {\n        vertical-align: middle;\n    }\n\n    .dataframe tbody tr th {\n        vertical-align: top;\n    }\n\n    .dataframe thead th {\n        text-align: right;\n    }\n</style>\n<table border=\"1\" class=\"dataframe\">\n  <thead>\n    <tr style=\"text-align: right;\">\n      <th></th>\n      <th>userId</th>\n      <th>movieId</th>\n      <th>rating</th>\n      <th>timestamp</th>\n    </tr>\n  </thead>\n  <tbody>\n    <tr>\n      <th>2977</th>\n      <td>20</td>\n      <td>2</td>\n      <td>3.0</td>\n      <td>2003-05-27 14:25:13</td>\n    </tr>\n    <tr>\n      <th>2978</th>\n      <td>20</td>\n      <td>8</td>\n      <td>1.0</td>\n      <td>2003-05-27 14:27:02</td>\n    </tr>\n    <tr>\n      <th>2979</th>\n      <td>20</td>\n      <td>13</td>\n      <td>4.0</td>\n      <td>2003-05-27 14:27:05</td>\n    </tr>\n    <tr>\n      <th>2980</th>\n      <td>20</td>\n      <td>34</td>\n      <td>4.0</td>\n      <td>2003-05-27 14:21:33</td>\n    </tr>\n    <tr>\n      <th>2981</th>\n      <td>20</td>\n      <td>48</td>\n      <td>5.0</td>\n      <td>2003-05-27 14:25:57</td>\n    </tr>\n    <tr>\n      <th>...</th>\n      <td>...</td>\n      <td>...</td>\n      <td>...</td>\n      <td>...</td>\n    </tr>\n    <tr>\n      <th>3214</th>\n      <td>20</td>\n      <td>6297</td>\n      <td>4.0</td>\n      <td>2003-05-27 13:57:50</td>\n    </tr>\n    <tr>\n      <th>3215</th>\n      <td>20</td>\n      <td>6333</td>\n      <td>4.0</td>\n      <td>2003-05-27 13:56:56</td>\n    </tr>\n    <tr>\n      <th>3216</th>\n      <td>20</td>\n      <td>6345</td>\n      <td>5.0</td>\n      <td>2003-05-27 13:57:03</td>\n    </tr>\n    <tr>\n      <th>3217</th>\n      <td>20</td>\n      <td>6358</td>\n      <td>3.5</td>\n      <td>2003-05-28 20:45:05</td>\n    </tr>\n    <tr>\n      <th>3218</th>\n      <td>20</td>\n      <td>6365</td>\n      <td>4.0</td>\n      <td>2003-05-28 20:39:27</td>\n    </tr>\n  </tbody>\n</table>\n<p>242 rows × 4 columns</p>\n</div>"
     },
     "execution_count": 6,
     "metadata": {},
     "output_type": "execute_result"
    }
   ],
   "source": [
    "# again, another function to find some data\n",
    "def ratingsForUser(uid):\n",
    "    #TODO\n",
    "    return ratings[ratings.userId == uid]\n",
    "ratingsForUser(20)"
   ]
  },
  {
   "cell_type": "markdown",
   "id": "40f30345-db31-4151-9924-70a425d6a91b",
   "metadata": {},
   "source": [
    "Let's do some data exploration. Compute the number of ratings per user and plot the histogram. Hint, use the [groupby](https://pandas.pydata.org/pandas-docs/stable/reference/api/pandas.DataFrame.groupby.html) function from pandas. "
   ]
  },
  {
   "cell_type": "code",
   "execution_count": 7,
   "id": "defce79a-68f1-4c0a-91f0-2e01efbbefda",
   "metadata": {},
   "outputs": [
    {
     "data": {
      "text/plain": "Text(0.5, 0, '# of users')"
     },
     "execution_count": 7,
     "metadata": {},
     "output_type": "execute_result"
    },
    {
     "data": {
      "text/plain": "<Figure size 432x288 with 1 Axes>",
      "image/png": "[encoded data removed]"
     },
     "metadata": {
      "needs_background": "light"
     },
     "output_type": "display_data"
    }
   ],
   "source": [
    "# compute a histogram of number of ratings.\n",
    "#TODO\n",
    "\n",
    "ratings_per_user = ratings.groupby(\"userId\").size().sort_values()\n",
    "plt.bar(np.arange(ratings_per_user.size), ratings_per_user.values)\n",
    "plt.ylabel(\"# of reviews\")\n",
    "plt.xlabel(\"# of users\")"
   ]
  },
  {
   "cell_type": "markdown",
   "id": "ac53b4c3-5d23-4048-a3db-64d328a6b114",
   "metadata": {},
   "source": [
    "This data set looks highly skewed as often the case. Most users have only a small number of ratings. What is the minimum number of ratings in the data set?"
   ]
  },
  {
   "cell_type": "code",
   "execution_count": 8,
   "id": "870e88c0-5ac0-4760-a02f-660f8c4da14a",
   "metadata": {},
   "outputs": [
    {
     "name": "stdout",
     "output_type": "stream",
     "text": [
      "min # of ratings per user: 20\n"
     ]
    }
   ],
   "source": [
    "#TODO\n",
    "print(\"min # of ratings per user:\", ratings_per_user.iloc[0])"
   ]
  },
  {
   "cell_type": "markdown",
   "id": "b5b7088c-7b1f-4f86-bed9-011ed63be1fe",
   "metadata": {},
   "source": [
    "What is the movie with the most views?"
   ]
  },
  {
   "cell_type": "code",
   "execution_count": 9,
   "id": "b996671f-15e6-4814-bd94-c1b43247e2f8",
   "metadata": {},
   "outputs": [
    {
     "name": "stdout",
     "output_type": "stream",
     "text": [
      "most viewed (/rated) movie: Forrest Gump (1994)\n"
     ]
    }
   ],
   "source": [
    "#TODO\n",
    "ratings_per_movie = ratings.groupby(\"movieId\").size().sort_values()\n",
    "most_rated_id = ratings_per_movie.index[-1]\n",
    "most_rated_title = movies[movies.index == most_rated_id].title.iloc[0]\n",
    "print(\"most viewed (/rated) movie:\", most_rated_title)"
   ]
  },
  {
   "cell_type": "markdown",
   "id": "80fa24a5-ff27-4df8-bf14-db58e0f57ff4",
   "metadata": {},
   "source": [
    "This is a all not very informative. Try joining the movies data to this result set so that you can see the title and the other columns as well. (Hint: you need to use the 'on=' keyword int he join function)"
   ]
  },
  {
   "cell_type": "code",
   "execution_count": 10,
   "id": "6a229651-700d-4b0b-873c-023deebd9f7b",
   "metadata": {},
   "outputs": [
    {
     "name": "stdout",
     "output_type": "stream",
     "text": [
      "With a total of 329 ratings, the most rated movie is Forrest Gump (1994) and is in the genres Comedy|Drama|Romance|War\n"
     ]
    }
   ],
   "source": [
    "#TODO\n",
    "ratings_per_movie.name = \"rating_count\"\n",
    "joined = movies.join(ratings_per_movie)\n",
    "most_rated_movie = joined[joined.rating_count == joined.rating_count.max()].iloc[0]\n",
    "print(\"With a total of\", int(most_rated_movie.rating_count), \"ratings, the most rated movie is\", most_rated_movie.title,\n",
    "      \"and is in the genres\", most_rated_movie.genres)"
   ]
  },
  {
   "cell_type": "markdown",
   "id": "3d1d121b-8f21-4129-9770-337057daf865",
   "metadata": {},
   "source": [
    "Likewise, what's the best rated movie of all times?"
   ]
  },
  {
   "cell_type": "code",
   "execution_count": 11,
   "id": "2329c488-6f35-4717-abc7-a08edc313291",
   "metadata": {},
   "outputs": [
    {
     "name": "stdout",
     "output_type": "stream",
     "text": [
      "Here are the 7 movies with the best ratings (5.00) on average and the most (2) reviews\n"
     ]
    },
    {
     "name": "stderr",
     "output_type": "stream",
     "text": [
      "c:\\users\\formlos moin\\source\\repos\\saki\\03\\saki-2021-reco\\venv\\lib\\site-packages\\pandas\\core\\reshape\\merge.py:648: UserWarning: merging between different levels can give an unintended result (1 levels on the left,2 on the right)\n",
      "  warnings.warn(msg, UserWarning)\n"
     ]
    },
    {
     "data": {
      "text/plain": "                                                     title  \\\nmovieId                                                      \n53                                         Lamerica (1994)   \n99                    Heidi Fleiss: Hollywood Madam (1995)   \n1151                                   Lesson Faust (1994)   \n3473     Jonah Who Will Be 25 in the Year 2000 (Jonas q...   \n6442                                   Belle époque (1992)   \n6818                    Come and See (Idi i smotri) (1985)   \n78836                                Enter the Void (2009)   \n\n                                 genres  (rating, mean)  rating_count  \nmovieId                                                                \n53                      Adventure|Drama             5.0             2  \n99                          Documentary             5.0             2  \n1151     Animation|Comedy|Drama|Fantasy             5.0             2  \n3473                             Comedy             5.0             2  \n6442                     Comedy|Romance             5.0             2  \n6818                          Drama|War             5.0             2  \n78836                             Drama             5.0             2  ",
      "text/html": "<div>\n<style scoped>\n    .dataframe tbody tr th:only-of-type {\n        vertical-align: middle;\n    }\n\n    .dataframe tbody tr th {\n        vertical-align: top;\n    }\n\n    .dataframe thead th {\n        text-align: right;\n    }\n</style>\n<table border=\"1\" class=\"dataframe\">\n  <thead>\n    <tr style=\"text-align: right;\">\n      <th></th>\n      <th>title</th>\n      <th>genres</th>\n      <th>(rating, mean)</th>\n      <th>rating_count</th>\n    </tr>\n    <tr>\n      <th>movieId</th>\n      <th></th>\n      <th></th>\n      <th></th>\n      <th></th>\n    </tr>\n  </thead>\n  <tbody>\n    <tr>\n      <th>53</th>\n      <td>Lamerica (1994)</td>\n      <td>Adventure|Drama</td>\n      <td>5.0</td>\n      <td>2</td>\n    </tr>\n    <tr>\n      <th>99</th>\n      <td>Heidi Fleiss: Hollywood Madam (1995)</td>\n      <td>Documentary</td>\n      <td>5.0</td>\n      <td>2</td>\n    </tr>\n    <tr>\n      <th>1151</th>\n      <td>Lesson Faust (1994)</td>\n      <td>Animation|Comedy|Drama|Fantasy</td>\n      <td>5.0</td>\n      <td>2</td>\n    </tr>\n    <tr>\n      <th>3473</th>\n      <td>Jonah Who Will Be 25 in the Year 2000 (Jonas q...</td>\n      <td>Comedy</td>\n      <td>5.0</td>\n      <td>2</td>\n    </tr>\n    <tr>\n      <th>6442</th>\n      <td>Belle époque (1992)</td>\n      <td>Comedy|Romance</td>\n      <td>5.0</td>\n      <td>2</td>\n    </tr>\n    <tr>\n      <th>6818</th>\n      <td>Come and See (Idi i smotri) (1985)</td>\n      <td>Drama|War</td>\n      <td>5.0</td>\n      <td>2</td>\n    </tr>\n    <tr>\n      <th>78836</th>\n      <td>Enter the Void (2009)</td>\n      <td>Drama</td>\n      <td>5.0</td>\n      <td>2</td>\n    </tr>\n  </tbody>\n</table>\n</div>"
     },
     "execution_count": 11,
     "metadata": {},
     "output_type": "execute_result"
    }
   ],
   "source": [
    "movie_ratings = ratings.groupby(\"movieId\").agg({'rating':['mean']})\n",
    "# movie_ratings.name = \"movie_ratings\"\n",
    "j = movies.join(movie_ratings)\n",
    "best_rated_movies = j[j[('rating', 'mean')] == j[('rating', 'mean')].max()]\n",
    "best_most_movies = best_rated_movies.join(ratings_per_movie)\n",
    "best_rated_movie = best_most_movies[best_most_movies.rating_count == best_most_movies.rating_count.max()]\n",
    "\n",
    "print(\"Here are the\", len(best_rated_movie), \"movies with the best ratings\",\n",
    "      \"(%.2f)\" % best_rated_movie.iloc[0][('rating', 'mean')],\n",
    "      \"on average and the most\", \"(%d)\" % best_rated_movie.iloc[0].rating_count, \"reviews\")\n",
    "best_rated_movie\n",
    "#print(\"with a rating of\", best_rated_movie[('rating', 'mean')], \"the best rated movie is\", best_rated_movie.title, \"(genres:\",\n",
    "# best_rated_movie.genres, \")\")\n",
    "#TODO"
   ]
  },
  {
   "cell_type": "markdown",
   "id": "bbcc99bc-0c44-43ec-9594-7c9c26d24b4e",
   "metadata": {},
   "source": [
    "The top seems to be movies with very few ratings, only look at movies that have twenty or more ratings."
   ]
  },
  {
   "cell_type": "code",
   "execution_count": 12,
   "id": "1fb4020c-0553-44fc-93c3-5d0df2adb83e",
   "metadata": {},
   "outputs": [
    {
     "name": "stdout",
     "output_type": "stream",
     "text": [
      "ok\n"
     ]
    },
    {
     "name": "stderr",
     "output_type": "stream",
     "text": [
      "c:\\users\\formlos moin\\source\\repos\\saki\\03\\saki-2021-reco\\venv\\lib\\site-packages\\pandas\\core\\reshape\\merge.py:648: UserWarning: merging between different levels can give an unintended result (1 levels on the left,2 on the right)\n",
      "  warnings.warn(msg, UserWarning)\n"
     ]
    }
   ],
   "source": [
    "#TODO\n",
    "jj = j.join(ratings_per_movie)\n",
    "min_20 = jj[jj.rating_count >= 20]\n",
    "min_20\n",
    "\n",
    "movie_ratings = ratings.groupby(\"movieId\").agg({'rating':['max']})\n",
    "movie_ratings.name=\"mvr\"\n",
    "nnn = movies.join(movie_ratings)\n",
    "nn = [nnn.loc[idx] for idx in [6442, 193585, 1]]\n",
    "print(\"ok\")"
   ]
  },
  {
   "cell_type": "markdown",
   "id": "3df7e69c-9f25-4d82-8b76-14f92cde6bf5",
   "metadata": {},
   "source": [
    "# Toy data\n",
    "\n",
    "Before we go into working on collaborative filtering, let's define a toy data set. This is generally good practice if you are working with real-world data sets. Toy data is smaller and you can work faster, but you can also design it in a way that you know the outcome."
   ]
  },
  {
   "cell_type": "code",
   "execution_count": 13,
   "id": "bc601f80-3657-45cf-afa8-789d4e71ad21",
   "metadata": {},
   "outputs": [
    {
     "data": {
      "text/plain": "    userId  movieId  rating         timestamp\n0        1        1     5.0  2021-01-01 10:00\n1        1        2     4.0  2021-01-02 08:00\n2        1        3     3.0  2021-01-03 09:00\n3        1        4     2.0  2021-01-04 10:00\n4        1        8     1.0  2021-01-05 11:00\n5        2        1     1.0  2021-01-10 08:00\n6        2        2     2.0  2021-01-11 09:00\n7        2        3     3.0  2021-01-13 10:00\n8        3        2     3.0  2021-01-07 08:00\n9        3        3     3.0  2021-01-09 09:00\n10       3        5     3.0  2021-01-11 10:00",
      "text/html": "<div>\n<style scoped>\n    .dataframe tbody tr th:only-of-type {\n        vertical-align: middle;\n    }\n\n    .dataframe tbody tr th {\n        vertical-align: top;\n    }\n\n    .dataframe thead th {\n        text-align: right;\n    }\n</style>\n<table border=\"1\" class=\"dataframe\">\n  <thead>\n    <tr style=\"text-align: right;\">\n      <th></th>\n      <th>userId</th>\n      <th>movieId</th>\n      <th>rating</th>\n      <th>timestamp</th>\n    </tr>\n  </thead>\n  <tbody>\n    <tr>\n      <th>0</th>\n      <td>1</td>\n      <td>1</td>\n      <td>5.0</td>\n      <td>2021-01-01 10:00</td>\n    </tr>\n    <tr>\n      <th>1</th>\n      <td>1</td>\n      <td>2</td>\n      <td>4.0</td>\n      <td>2021-01-02 08:00</td>\n    </tr>\n    <tr>\n      <th>2</th>\n      <td>1</td>\n      <td>3</td>\n      <td>3.0</td>\n      <td>2021-01-03 09:00</td>\n    </tr>\n    <tr>\n      <th>3</th>\n      <td>1</td>\n      <td>4</td>\n      <td>2.0</td>\n      <td>2021-01-04 10:00</td>\n    </tr>\n    <tr>\n      <th>4</th>\n      <td>1</td>\n      <td>8</td>\n      <td>1.0</td>\n      <td>2021-01-05 11:00</td>\n    </tr>\n    <tr>\n      <th>5</th>\n      <td>2</td>\n      <td>1</td>\n      <td>1.0</td>\n      <td>2021-01-10 08:00</td>\n    </tr>\n    <tr>\n      <th>6</th>\n      <td>2</td>\n      <td>2</td>\n      <td>2.0</td>\n      <td>2021-01-11 09:00</td>\n    </tr>\n    <tr>\n      <th>7</th>\n      <td>2</td>\n      <td>3</td>\n      <td>3.0</td>\n      <td>2021-01-13 10:00</td>\n    </tr>\n    <tr>\n      <th>8</th>\n      <td>3</td>\n      <td>2</td>\n      <td>3.0</td>\n      <td>2021-01-07 08:00</td>\n    </tr>\n    <tr>\n      <th>9</th>\n      <td>3</td>\n      <td>3</td>\n      <td>3.0</td>\n      <td>2021-01-09 09:00</td>\n    </tr>\n    <tr>\n      <th>10</th>\n      <td>3</td>\n      <td>5</td>\n      <td>3.0</td>\n      <td>2021-01-11 10:00</td>\n    </tr>\n  </tbody>\n</table>\n</div>"
     },
     "execution_count": 13,
     "metadata": {},
     "output_type": "execute_result"
    }
   ],
   "source": [
    "toyratings = pd.DataFrame(data={\n",
    "    'userId': [1, 1, 1, 1, 1,\n",
    "              2, 2, 2,\n",
    "              3, 3, 3],\n",
    "    'movieId': [1,2,3,4,8,\n",
    "               1,2,3,\n",
    "               2,3,5],\n",
    "    'rating': [5.0, 4.0, 3.0, 2.0, 1.0,\n",
    "               1.0, 2.0, 3.0,\n",
    "               3.0, 3.0, 3.0],\n",
    "    'timestamp': ['2021-01-01 10:00', '2021-01-02 08:00', '2021-01-03 09:00', '2021-01-04 10:00', '2021-01-05 11:00',\n",
    "                 '2021-01-10 08:00', '2021-01-11 09:00', '2021-01-13 10:00',\n",
    "                '2021-01-07 08:00', '2021-01-09 09:00', '2021-01-11 10:00']\n",
    "                  \n",
    "})\n",
    "toyratings"
   ]
  },
  {
   "cell_type": "markdown",
   "id": "2e9b4b5e-bcee-40d8-9871-1ad799478638",
   "metadata": {},
   "source": [
    "# Collaborative filtering\n",
    "\n",
    "We will now (finally) implement collaborative filtering. For two movies, it looks at the ratings of all users and computes the cosine similarities between these vectors. It might sound simple, but works if you have sufficient amounts of data, and is often a good first version.\n",
    "\n",
    "We're not dealing with this here, but for future reference: It is not personalized, and you don't know how to do recommendations for new items. There are other methods that look at customer events, or take content into account to deal with these kinds of problems. Factorization methods can also help if your data is very sparse.\n",
    "\n",
    "Implement a function that takes the ratings dataframe and returns a dataframe which contains movie to movie similarities. You can convert the dataframe to a numpy array to work with matrix algebra. Try to avoid using explicit for loops."
   ]
  },
  {
   "cell_type": "code",
   "execution_count": 14,
   "id": "55842a21-5b1e-4bbd-baa0-bd33087216e1",
   "metadata": {},
   "outputs": [
    {
     "data": {
      "text/plain": "          1         2         3         4         5         8\n1  1.000000  0.801193  0.679366  0.980581  0.000000  0.980581\n2  0.801193  1.000000  0.964901  0.742781  0.557086  0.742781\n3  0.679366  0.964901  1.000000  0.577350  0.577350  0.577350\n4  0.980581  0.742781  0.577350  1.000000  0.000000  1.000000\n5  0.000000  0.557086  0.577350  0.000000  1.000000  0.000000\n8  0.980581  0.742781  0.577350  1.000000  0.000000  1.000000",
      "text/html": "<div>\n<style scoped>\n    .dataframe tbody tr th:only-of-type {\n        vertical-align: middle;\n    }\n\n    .dataframe tbody tr th {\n        vertical-align: top;\n    }\n\n    .dataframe thead th {\n        text-align: right;\n    }\n</style>\n<table border=\"1\" class=\"dataframe\">\n  <thead>\n    <tr style=\"text-align: right;\">\n      <th></th>\n      <th>1</th>\n      <th>2</th>\n      <th>3</th>\n      <th>4</th>\n      <th>5</th>\n      <th>8</th>\n    </tr>\n  </thead>\n  <tbody>\n    <tr>\n      <th>1</th>\n      <td>1.000000</td>\n      <td>0.801193</td>\n      <td>0.679366</td>\n      <td>0.980581</td>\n      <td>0.000000</td>\n      <td>0.980581</td>\n    </tr>\n    <tr>\n      <th>2</th>\n      <td>0.801193</td>\n      <td>1.000000</td>\n      <td>0.964901</td>\n      <td>0.742781</td>\n      <td>0.557086</td>\n      <td>0.742781</td>\n    </tr>\n    <tr>\n      <th>3</th>\n      <td>0.679366</td>\n      <td>0.964901</td>\n      <td>1.000000</td>\n      <td>0.577350</td>\n      <td>0.577350</td>\n      <td>0.577350</td>\n    </tr>\n    <tr>\n      <th>4</th>\n      <td>0.980581</td>\n      <td>0.742781</td>\n      <td>0.577350</td>\n      <td>1.000000</td>\n      <td>0.000000</td>\n      <td>1.000000</td>\n    </tr>\n    <tr>\n      <th>5</th>\n      <td>0.000000</td>\n      <td>0.557086</td>\n      <td>0.577350</td>\n      <td>0.000000</td>\n      <td>1.000000</td>\n      <td>0.000000</td>\n    </tr>\n    <tr>\n      <th>8</th>\n      <td>0.980581</td>\n      <td>0.742781</td>\n      <td>0.577350</td>\n      <td>1.000000</td>\n      <td>0.000000</td>\n      <td>1.000000</td>\n    </tr>\n  </tbody>\n</table>\n</div>"
     },
     "execution_count": 14,
     "metadata": {},
     "output_type": "execute_result"
    }
   ],
   "source": [
    "def collaborative_filtering(ratings):\n",
    "    #TODO\n",
    "    ratings.movieId = ratings.movieId.astype(int)\n",
    "    ratings.userId = ratings.userId.astype(int)\n",
    "    user_ids = list(set(ratings.userId))\n",
    "    movie_ids = list(set(ratings.movieId))\n",
    "\n",
    "    umr = np.zeros(shape=(len(user_ids), len(movie_ids)))\n",
    "\n",
    "    for i, row in ratings.iterrows():\n",
    "        uid = user_ids.index(row[\"userId\"])\n",
    "        mid = movie_ids.index(row[\"movieId\"])\n",
    "        umr[uid, mid] = row[\"rating\"]\n",
    "\n",
    "    cosines = np.dot(umr.T, umr) / np.outer(np.linalg.norm(umr.T, axis=-1), np.linalg.norm(umr, axis=0))\n",
    "\n",
    "    \"\"\"np.zeros(shape=(len(movie_ids), len(movie_ids)))\n",
    "    for i in range(len(movie_ids)):\n",
    "        for j in range(i+1):\n",
    "            val = np.sum(umr[i] * umr[j]) / (np.linalg.norm(umr[i]) * np.linalg.norm(umr[j]))\n",
    "            cosines[i, j] = val\n",
    "            cosines[j, i] = val\n",
    "    \"\"\"\n",
    "    df = pd.DataFrame(data=cosines, columns=movie_ids, index=movie_ids)\n",
    "    return df\n",
    "collaborative_filtering(toyratings)"
   ]
  },
  {
   "cell_type": "markdown",
   "id": "baf976e1-57ad-46cf-8862-8c15e19e3953",
   "metadata": {},
   "source": [
    "Let's store the result in the _sims_ variable for the full rating data set and in the _ts_ variable for the toyratings."
   ]
  },
  {
   "cell_type": "code",
   "execution_count": 15,
   "id": "fd3d9d24-743a-4bc4-a072-056fe2247548",
   "metadata": {},
   "outputs": [
    {
     "data": {
      "text/plain": "          1         2         3         4         5         8\n1  1.000000  0.801193  0.679366  0.980581  0.000000  0.980581\n2  0.801193  1.000000  0.964901  0.742781  0.557086  0.742781\n3  0.679366  0.964901  1.000000  0.577350  0.577350  0.577350\n4  0.980581  0.742781  0.577350  1.000000  0.000000  1.000000\n5  0.000000  0.557086  0.577350  0.000000  1.000000  0.000000\n8  0.980581  0.742781  0.577350  1.000000  0.000000  1.000000",
      "text/html": "<div>\n<style scoped>\n    .dataframe tbody tr th:only-of-type {\n        vertical-align: middle;\n    }\n\n    .dataframe tbody tr th {\n        vertical-align: top;\n    }\n\n    .dataframe thead th {\n        text-align: right;\n    }\n</style>\n<table border=\"1\" class=\"dataframe\">\n  <thead>\n    <tr style=\"text-align: right;\">\n      <th></th>\n      <th>1</th>\n      <th>2</th>\n      <th>3</th>\n      <th>4</th>\n      <th>5</th>\n      <th>8</th>\n    </tr>\n  </thead>\n  <tbody>\n    <tr>\n      <th>1</th>\n      <td>1.000000</td>\n      <td>0.801193</td>\n      <td>0.679366</td>\n      <td>0.980581</td>\n      <td>0.000000</td>\n      <td>0.980581</td>\n    </tr>\n    <tr>\n      <th>2</th>\n      <td>0.801193</td>\n      <td>1.000000</td>\n      <td>0.964901</td>\n      <td>0.742781</td>\n      <td>0.557086</td>\n      <td>0.742781</td>\n    </tr>\n    <tr>\n      <th>3</th>\n      <td>0.679366</td>\n      <td>0.964901</td>\n      <td>1.000000</td>\n      <td>0.577350</td>\n      <td>0.577350</td>\n      <td>0.577350</td>\n    </tr>\n    <tr>\n      <th>4</th>\n      <td>0.980581</td>\n      <td>0.742781</td>\n      <td>0.577350</td>\n      <td>1.000000</td>\n      <td>0.000000</td>\n      <td>1.000000</td>\n    </tr>\n    <tr>\n      <th>5</th>\n      <td>0.000000</td>\n      <td>0.557086</td>\n      <td>0.577350</td>\n      <td>0.000000</td>\n      <td>1.000000</td>\n      <td>0.000000</td>\n    </tr>\n    <tr>\n      <th>8</th>\n      <td>0.980581</td>\n      <td>0.742781</td>\n      <td>0.577350</td>\n      <td>1.000000</td>\n      <td>0.000000</td>\n      <td>1.000000</td>\n    </tr>\n  </tbody>\n</table>\n</div>"
     },
     "execution_count": 15,
     "metadata": {},
     "output_type": "execute_result"
    }
   ],
   "source": [
    "sims = collaborative_filtering(ratings)\n",
    "sims\n",
    "\n",
    "ts = collaborative_filtering(toyratings)\n",
    "ts"
   ]
  },
  {
   "cell_type": "markdown",
   "id": "d7cb5ba7-5286-4762-a694-b5cd6292aa9b",
   "metadata": {},
   "source": [
    "For getting recommendations quickly, let create another dataframe where each row is the ids of the recommendations. We get this by sorting the rows of the similarity dataframe.\n",
    "\n",
    "Write a function _allrecos_ that takes the similarity matrix computed by _collaborative_filtering_ and returns another dataframe with the values such that the first column is the movie itself (highest similarity), the second column is the second most similar, and so on..."
   ]
  },
  {
   "cell_type": "code",
   "execution_count": 16,
   "id": "724d0c65-3f94-4ee2-ba75-21289d281612",
   "metadata": {},
   "outputs": [
    {
     "ename": "IndentationError",
     "evalue": "expected an indented block (<ipython-input-16-ba3a66790784>, line 4)",
     "output_type": "error",
     "traceback": [
      "\u001B[1;36m  File \u001B[1;32m\"<ipython-input-16-ba3a66790784>\"\u001B[1;36m, line \u001B[1;32m4\u001B[0m\n\u001B[1;33m    recos = allrecos(sims)\u001B[0m\n\u001B[1;37m    ^\u001B[0m\n\u001B[1;31mIndentationError\u001B[0m\u001B[1;31m:\u001B[0m expected an indented block\n"
     ]
    }
   ],
   "source": [
    "def allrecos(sims):\n",
    "    #TODO\n",
    "\n",
    "recos = allrecos(sims)\n",
    "recos"
   ]
  },
  {
   "cell_type": "markdown",
   "id": "c2a64fd7-0f9c-4397-901e-aa0c8c993e2a",
   "metadata": {},
   "source": [
    "Finally, we define the function getReco that takes the recommendation dataframe, a movie id, and optinally a number of items to recommend and returns a "
   ]
  },
  {
   "cell_type": "code",
   "execution_count": null,
   "id": "9164756d-8d7e-42ad-8141-a8ef99f85fe5",
   "metadata": {},
   "outputs": [],
   "source": [
    "def getReco(recos, mi, n=10):\n",
    "    # TODO\n",
    "\n",
    "getReco(recos, 1)"
   ]
  },
  {
   "cell_type": "markdown",
   "id": "cc13f84a-e49e-4c70-9ddd-0dcec3f06c77",
   "metadata": {},
   "source": [
    "As we did above, if we join with the movies table we can also see what we're recommending.\n",
    "\n",
    "Write a function `printReco` that takes the recommendation table, a movie id, optionally a number of recommendations to return and joins the information from the movies table to the recommendations. Make it also output the title of the passed movie id.\n",
    "\n",
    "Hint: you can use to_frame(name='movieId') to turn the recommendations into a dataframe that can be joined more easily with the movies dataframe."
   ]
  },
  {
   "cell_type": "code",
   "execution_count": null,
   "id": "fa93facc-4ef2-436c-aa2f-74e12b72cb2e",
   "metadata": {},
   "outputs": [],
   "source": [
    "def printReco(recos, mi, n=10):\n",
    "    # TODO \n",
    "\n",
    "printReco(recos, 1)"
   ]
  },
  {
   "cell_type": "markdown",
   "id": "12848a69-2867-4b1d-9f61-bca30e7b32d7",
   "metadata": {},
   "source": [
    "What are the recommendations for the first Matrix movie?"
   ]
  },
  {
   "cell_type": "code",
   "execution_count": null,
   "id": "f87e161b-dc2a-4650-948e-69f4d4d7f92f",
   "metadata": {},
   "outputs": [],
   "source": [
    "# TODO"
   ]
  },
  {
   "cell_type": "markdown",
   "id": "87c43136-1614-40a5-8779-64a341c15ac2",
   "metadata": {},
   "source": [
    "What are the recommendations to 'When Harry Met Sally'?"
   ]
  },
  {
   "cell_type": "code",
   "execution_count": null,
   "id": "abfe6c01-0df2-4b3b-b5a8-7ad1fd1817f9",
   "metadata": {},
   "outputs": [],
   "source": [
    "# TODO"
   ]
  },
  {
   "cell_type": "markdown",
   "id": "44f05b14-845a-4019-8a7b-9be025c4e100",
   "metadata": {},
   "source": [
    "# Now let's compute some metrics\n",
    "\n",
    "As you hopefully saw from the above examples, the algorithm seems to be making more or less sense. However, in practice, you'll want to define some metrics that can objectively measure how well the algorithm works. We're looking at two measures here, views@n and mean reciprocal rank@n.\n",
    "\n",
    "The \"@n\" part measures how many recommendations you want.\n",
    "\n",
    "views@n measure the percentage of recommendations that contained the next movie viewed by a users.\n",
    "\n",
    "mrr@n measures the mean reciprocal rank: you take the position p of the item that has been viewed and take the 1/p and then take the mean over all recommendations.\n",
    "\n",
    "This setting simulates a setting where we would have shown our recommendations after each view and measures whether we were able to recommend something that people viewed.\n",
    "\n",
    "The analysis is very simple and also incorrect strictly speaking because our model has been trained on the views we are using to evaluate. Since the model is very simple, we'll probably not see overfitting."
   ]
  },
  {
   "cell_type": "markdown",
   "id": "b9b65e26-f3fc-4840-9ed2-e3644f095bb2",
   "metadata": {},
   "source": [
    "## Looking at the next recommendation\n",
    "\n",
    "As a first step, we need to collect pairs of movieId and next movieId from the ratings. The ratings table is already sorted by userIds, but the times are bit all over the place. Sort the ratings table first by userId and timestamp.\n",
    "\n",
    "I personally didn't find a good way to do this with pandas operations, so iterate over the whole table. Or try to find a better solutions!\n",
    "\n",
    "The end result should be a dataframe with the columns userId, movieId, nextMovieId, timestamp (of the first view)."
   ]
  },
  {
   "cell_type": "code",
   "execution_count": null,
   "id": "ad41e867-72c8-4e7a-8fe2-eeaa75acb28d",
   "metadata": {},
   "outputs": [],
   "source": [
    "# create a new dataframe with nextMovieId, if that is given in the same session.\n",
    "\n",
    "ratings = ratings.sort_values(...) #TODO\n",
    "\n",
    "nextviews = #TODO"
   ]
  },
  {
   "cell_type": "markdown",
   "id": "6c4d96ba-8818-42a1-ae3b-3c8ae0b592c5",
   "metadata": {},
   "source": [
    "## Computing views@n\n",
    "\n",
    "Now implement a function that computes the views@n metric.\n",
    "\n",
    "Hint: Using \"axis=1\" in DataFrame#apply let's you run a function over the rows of a data frame. Define a helper function that gets the recommendations via getReco defined above and checks whether the nextMovieId is in the recommendations or not.\n",
    "\n",
    "What value did you get for different n?"
   ]
  },
  {
   "cell_type": "code",
   "execution_count": null,
   "id": "afaee813-d6ff-4b32-b9da-5e4c96514124",
   "metadata": {},
   "outputs": [],
   "source": [
    "def viewsAtN(recos, n):\n",
    "   #TODO\n",
    "\n",
    "viewsAtN(recos, 50)\n"
   ]
  },
  {
   "cell_type": "markdown",
   "id": "689c93a3-1fee-489b-a398-6091e6e1bb54",
   "metadata": {},
   "source": [
    "## Computing MRR@n\n",
    "\n",
    "Just as above, compute a function that computes the MRR.\n",
    "\n",
    "Hint, if you have a Python list l, you can use l.index(i) to get the index of item i."
   ]
  },
  {
   "cell_type": "code",
   "execution_count": null,
   "id": "dc6ab6a3-85e0-4a07-8bb1-c601cf8132d1",
   "metadata": {},
   "outputs": [],
   "source": [
    "def MRRAtN(recos, n):\n",
    "    #TODO\n",
    "\n",
    "MRRAtN(recos, 50)\n"
   ]
  },
  {
   "cell_type": "markdown",
   "id": "46afb769-510e-4a3e-871e-5946d799c60a",
   "metadata": {},
   "source": [
    "## Congratulations!\n",
    "\n",
    "You did some exploratory analysis on user interaction data, build a simple recommendation model and did some evaluation. These are all steps you would be doing on a data science project.\n",
    "\n",
    "Here are some things you would do in practice:\n",
    "\n",
    "- more properly separate between training and test data.\n",
    "- make the code more modular so you can evaluate arbitrary algorithms.\n",
    "- Look into other methods, e.g. content based filtering. You could for example take the genre data, and suggest the most popular movie from a given genre.\n",
    "- You could look into factorization methods like Alternate Least Squares or versions of non-negative matrix factorization. These are dimension-reduction methods that try to explain the ratings in terms of a smaller number of factors. These \"compress\" data and could help if the data is very sparse.\n",
    "- Productionize the system. It is not uncommon for recommendation systems to compute all recommendations in a batch fashion and then just load the recommended items into a database. No need to run a ML model in production.\n",
    "\n"
   ]
  },
  {
   "cell_type": "code",
   "execution_count": null,
   "id": "c3589bba-fe85-4231-a15f-41d17af23c39",
   "metadata": {},
   "outputs": [],
   "source": []
  }
 ],
 "metadata": {
  "kernelspec": {
   "display_name": "Python 3",
   "language": "python",
   "name": "python3"
  },
  "language_info": {
   "codemirror_mode": {
    "name": "ipython",
    "version": 3
   },
   "file_extension": ".py",
   "mimetype": "text/x-python",
   "name": "python",
   "nbconvert_exporter": "python",
   "pygments_lexer": "ipython3",
   "version": "3.8.10"
  }
 },
 "nbformat": 4,
 "nbformat_minor": 5
}